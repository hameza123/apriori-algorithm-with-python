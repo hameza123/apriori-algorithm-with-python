{
 "cells": [
  {
   "cell_type": "code",
   "execution_count": 37,
   "id": "f78f384f-2683-4fe8-b73e-dd28365be3c0",
   "metadata": {},
   "outputs": [],
   "source": [
    "import csv\n",
    "from itertools import combinations"
   ]
  },
  {
   "cell_type": "markdown",
   "id": "12de9058",
   "metadata": {},
   "source": [
    "Prétraitement des données"
   ]
  },
  {
   "cell_type": "code",
   "execution_count": 38,
   "id": "2fea628a-766b-406e-ad22-841463358d17",
   "metadata": {},
   "outputs": [],
   "source": [
    "def load_dataset_from_csv(file_path):\n",
    "    dataset = []\n",
    "    with open(file_path, 'r') as file:\n",
    "        reader = csv.reader(file)\n",
    "        for row in reader:\n",
    "            dataset.append(row)\n",
    "    return dataset"
   ]
  },
  {
   "cell_type": "code",
   "execution_count": 39,
   "id": "af155d6b",
   "metadata": {},
   "outputs": [],
   "source": [
    "# Load dataset from CSV file\n",
    "file_path = 'replace-it-with-file_path'\n",
    "dataset = load_dataset_from_csv(file_path)"
   ]
  },
  {
   "cell_type": "code",
   "execution_count": 40,
   "id": "a5d11e88",
   "metadata": {},
   "outputs": [
    {
     "name": "stdout",
     "output_type": "stream",
     "text": [
      "First 5 transactions:\n",
      "['shrimp', 'almonds', 'avocado', 'vegetables mix', 'green grapes', 'whole weat flour', 'yams', 'cottage cheese', 'energy drink', 'tomato juice', 'low fat yogurt', 'green tea', 'honey', 'salad', 'mineral water', 'salmon', 'antioxydant juice', 'frozen smoothie', 'spinach', 'olive oil']\n",
      "['burgers', 'meatballs', 'eggs']\n",
      "['chutney']\n",
      "['turkey', 'avocado']\n",
      "['mineral water', 'milk', 'energy bar', 'whole wheat rice', 'green tea']\n"
     ]
    }
   ],
   "source": [
    "\n",
    "print(\"First 5 transactions:\")\n",
    "for transaction in dataset[:5]:\n",
    "    print(transaction)"
   ]
  },
  {
   "cell_type": "markdown",
   "id": "580efdf0",
   "metadata": {},
   "source": [
    "Implémentation de l'algorithme Apriori"
   ]
  },
  {
   "cell_type": "code",
   "execution_count": 41,
   "id": "0d8d77ce",
   "metadata": {},
   "outputs": [],
   "source": [
    "def create_candidate_itemset(dataset):\n",
    "    candidate_itemset = set()\n",
    "    for transaction in dataset:\n",
    "        for item in transaction:\n",
    "            candidate_itemset.add(frozenset([item]))\n",
    "    return candidate_itemset"
   ]
  },
  {
   "cell_type": "code",
   "execution_count": 42,
   "id": "e6ff4f78",
   "metadata": {},
   "outputs": [],
   "source": [
    "def filter_candidates(dataset, candidate_itemset, min_support):\n",
    "    support_counts = {}\n",
    "    for transaction in dataset:\n",
    "        for candidate in candidate_itemset:\n",
    "            if candidate.issubset(transaction):\n",
    "                support_counts[candidate] = support_counts.get(candidate, 0) + 1\n",
    "\n",
    "    num_transactions = len(dataset)\n",
    "    frequent_itemset = set()\n",
    "    support_data = {}\n",
    "    for itemset, support in support_counts.items():\n",
    "        support_value = support / num_transactions\n",
    "        if support_value >= min_support:\n",
    "            frequent_itemset.add(itemset)\n",
    "            support_data[itemset] = support_value\n",
    "    return frequent_itemset, support_data"
   ]
  },
  {
   "cell_type": "code",
   "execution_count": 43,
   "id": "54c37690",
   "metadata": {},
   "outputs": [],
   "source": [
    "def generate_candidates(prev_frequent_itemset, k):\n",
    "    candidates = set()\n",
    "    for itemset1 in prev_frequent_itemset:\n",
    "        for itemset2 in prev_frequent_itemset:\n",
    "            if len(itemset1.union(itemset2)) == k:\n",
    "                candidate = itemset1.union(itemset2)\n",
    "                if all([frozenset(x) in prev_frequent_itemset for x in combinations(candidate, k-1)]):\n",
    "                    candidates.add(candidate)\n",
    "    return candidates"
   ]
  },
  {
   "cell_type": "markdown",
   "id": "a377c3f0",
   "metadata": {},
   "source": [
    "Extraction des règles d'association"
   ]
  },
  {
   "cell_type": "code",
   "execution_count": null,
   "id": "f3ade18f",
   "metadata": {},
   "outputs": [],
   "source": [
    "min_support = 0.0045\n",
    "min_confidence = 0.2\n",
    "min_lift = 3\n",
    "min_length = 2 "
   ]
  },
  {
   "cell_type": "code",
   "execution_count": 45,
   "id": "8841b732",
   "metadata": {},
   "outputs": [],
   "source": [
    "def generate_rules(frequent_itemsets, support_data, min_confidence, min_lift, min_length):\n",
    "    rules = set()  # Utilisation d'un ensemble pour éviter les doublons\n",
    "    for itemset in frequent_itemsets:\n",
    "        if len(itemset) >= min_length:\n",
    "            for item in itemset:\n",
    "                antecedent = itemset - frozenset([item])\n",
    "                consequent = frozenset([item])\n",
    "                confidence = support_data[itemset] / support_data[antecedent]\n",
    "                lift = confidence / support_data[consequent]\n",
    "                if confidence >= min_confidence and lift >= min_lift:\n",
    "                    # Utilisation d'un tuple pour stocker la règle\n",
    "                    rule = (antecedent, consequent, support_data[itemset], confidence, lift)\n",
    "                    rules.add(rule)  # Ajout de la règle à l'ensemble\n",
    "    return list(rules)  # Conversion de l'ensemble en liste avant de la retourner\n"
   ]
  },
  {
   "cell_type": "code",
   "execution_count": 46,
   "id": "31df3d12",
   "metadata": {},
   "outputs": [
    {
     "name": "stdout",
     "output_type": "stream",
     "text": [
      "28\n"
     ]
    }
   ],
   "source": [
    "print(len(rules))"
   ]
  },
  {
   "cell_type": "code",
   "execution_count": 47,
   "id": "100099e2",
   "metadata": {},
   "outputs": [
    {
     "name": "stdout",
     "output_type": "stream",
     "text": [
      "(frozenset({'spaghetti', 'frozen vegetables'}), frozenset({'olive oil'}), 0.005732568990801226, 0.20574162679425836, 3.1240241752707125)\n"
     ]
    }
   ],
   "source": [
    "print(rules[0])"
   ]
  },
  {
   "cell_type": "markdown",
   "id": "e30ce2be",
   "metadata": {},
   "source": [
    "application de l'algorithme\n"
   ]
  },
  {
   "cell_type": "code",
   "execution_count": null,
   "id": "d7ce6361",
   "metadata": {},
   "outputs": [],
   "source": [
    "def apriori(dataset, min_support, min_confidence, min_lift, min_length):\n",
    "    frequent_itemsets = []\n",
    "    support_data = {}\n",
    "    candidate_itemset = create_candidate_itemset(dataset)\n",
    "    k = 1\n",
    "    while True:\n",
    "        frequent_itemset, support_values = filter_candidates(dataset, candidate_itemset, min_support)\n",
    "        if len(frequent_itemset) == 0:\n",
    "            break\n",
    "        frequent_itemsets.append(frequent_itemset)\n",
    "        support_data.update(support_values)\n",
    "        candidate_itemset = generate_candidates(frequent_itemset, k + 1)\n",
    "        k += 1\n",
    "    rules = generate_rules(set.union(*frequent_itemsets), support_data, min_confidence, min_lift, min_length)\n",
    "    return rules"
   ]
  },
  {
   "cell_type": "code",
   "execution_count": 49,
   "id": "beb15e79",
   "metadata": {},
   "outputs": [],
   "source": [
    "\n",
    "rules = apriori(dataset, min_support, min_confidence, min_lift, min_length)"
   ]
  },
  {
   "cell_type": "markdown",
   "id": "f805716c",
   "metadata": {},
   "source": []
  },
  {
   "cell_type": "markdown",
   "id": "88aca93a",
   "metadata": {},
   "source": [
    "Visualisation des résultats"
   ]
  },
  {
   "cell_type": "code",
   "execution_count": 50,
   "id": "6484fecc",
   "metadata": {},
   "outputs": [
    {
     "name": "stdout",
     "output_type": "stream",
     "text": [
      "Rule: spaghetti, frozen vegetables -> olive oil\n",
      "Support: 0.005732568990801226\n",
      "Confidence: 0.20574162679425836\n",
      "Lift: 3.1240241752707125\n",
      "=====================================\n",
      "Rule: pasta -> shrimp\n",
      "Support: 0.005065991201173177\n",
      "Confidence: 0.3220338983050847\n",
      "Lift: 4.506672147735896\n",
      "=====================================\n",
      "Rule: cooking oil, spaghetti -> ground beef\n",
      "Support: 0.004799360085321957\n",
      "Confidence: 0.3025210084033613\n",
      "Lift: 3.0789824749438446\n",
      "=====================================\n",
      "Rule: cooking oil, ground beef -> spaghetti\n",
      "Support: 0.004799360085321957\n",
      "Confidence: 0.5714285714285714\n",
      "Lift: 3.2819951870487856\n",
      "=====================================\n",
      "Rule: mushroom cream sauce -> escalope\n",
      "Support: 0.005732568990801226\n",
      "Confidence: 0.3006993006993007\n",
      "Lift: 3.790832696715049\n",
      "=====================================\n",
      "Rule: mineral water, spaghetti, milk -> frozen vegetables\n",
      "Support: 0.004532728969470737\n",
      "Confidence: 0.28813559322033894\n",
      "Lift: 3.0228043143297376\n",
      "=====================================\n",
      "Rule: spaghetti, frozen vegetables -> shrimp\n",
      "Support: 0.005999200106652446\n",
      "Confidence: 0.21531100478468898\n",
      "Lift: 3.0131489680782684\n",
      "=====================================\n",
      "Rule: mineral water, soup -> olive oil\n",
      "Support: 0.005199306759098787\n",
      "Confidence: 0.22543352601156072\n",
      "Lift: 3.4230301186492245\n",
      "=====================================\n",
      "Rule: mineral water, herb & pepper -> ground beef\n",
      "Support: 0.006665777896280496\n",
      "Confidence: 0.39062500000000006\n",
      "Lift: 3.975682666214383\n",
      "=====================================\n",
      "Rule: milk, frozen vegetables -> olive oil\n",
      "Support: 0.004799360085321957\n",
      "Confidence: 0.20338983050847456\n",
      "Lift: 3.088314005352364\n",
      "=====================================\n",
      "Rule: ground beef, shrimp -> spaghetti\n",
      "Support: 0.005999200106652446\n",
      "Confidence: 0.5232558139534884\n",
      "Lift: 3.005315360233627\n",
      "=====================================\n",
      "Rule: herb & pepper -> ground beef\n",
      "Support: 0.015997866951073192\n",
      "Confidence: 0.3234501347708895\n",
      "Lift: 3.2919938411349285\n",
      "=====================================\n",
      "Rule: spaghetti, grated cheese -> ground beef\n",
      "Support: 0.005332622317024397\n",
      "Confidence: 0.3225806451612903\n",
      "Lift: 3.283144395325426\n",
      "=====================================\n",
      "Rule: milk, spaghetti -> olive oil\n",
      "Support: 0.007199040127982935\n",
      "Confidence: 0.20300751879699247\n",
      "Lift: 3.0825089038385434\n",
      "=====================================\n",
      "Rule: spaghetti, pancakes -> olive oil\n",
      "Support: 0.005065991201173177\n",
      "Confidence: 0.20105820105820105\n",
      "Lift: 3.0529100529100526\n",
      "=====================================\n",
      "Rule: pasta -> escalope\n",
      "Support: 0.005865884548726837\n",
      "Confidence: 0.3728813559322034\n",
      "Lift: 4.700811850163794\n",
      "=====================================\n",
      "Rule: chocolate, frozen vegetables -> shrimp\n",
      "Support: 0.005332622317024397\n",
      "Confidence: 0.23255813953488375\n",
      "Lift: 3.2545123221103784\n",
      "=====================================\n",
      "Rule: mineral water, shrimp -> frozen vegetables\n",
      "Support: 0.007199040127982935\n",
      "Confidence: 0.30508474576271183\n",
      "Lift: 3.200616332819722\n",
      "=====================================\n",
      "Rule: spaghetti, frozen vegetables -> tomatoes\n",
      "Support: 0.006665777896280496\n",
      "Confidence: 0.23923444976076558\n",
      "Lift: 3.4980460188216425\n",
      "=====================================\n",
      "Rule: spaghetti, herb & pepper -> ground beef\n",
      "Support: 0.006399146780429276\n",
      "Confidence: 0.3934426229508197\n",
      "Lift: 4.004359721511667\n",
      "=====================================\n",
      "Rule: light cream -> chicken\n",
      "Support: 0.004532728969470737\n",
      "Confidence: 0.29059829059829057\n",
      "Lift: 4.84395061728395\n",
      "=====================================\n",
      "Rule: whole wheat pasta -> olive oil\n",
      "Support: 0.007998933475536596\n",
      "Confidence: 0.2714932126696833\n",
      "Lift: 4.122410097642296\n",
      "=====================================\n",
      "Rule: spaghetti, frozen vegetables -> ground beef\n",
      "Support: 0.008665511265164644\n",
      "Confidence: 0.31100478468899523\n",
      "Lift: 3.165328208890303\n",
      "=====================================\n",
      "Rule: chocolate, shrimp -> frozen vegetables\n",
      "Support: 0.005332622317024397\n",
      "Confidence: 0.29629629629629634\n",
      "Lift: 3.1084175084175087\n",
      "=====================================\n",
      "Rule: spaghetti, tomatoes -> frozen vegetables\n",
      "Support: 0.006665777896280496\n",
      "Confidence: 0.3184713375796179\n",
      "Lift: 3.341053850607991\n",
      "=====================================\n",
      "Rule: milk, ground beef -> olive oil\n",
      "Support: 0.004932675643247567\n",
      "Confidence: 0.22424242424242427\n",
      "Lift: 3.40494417862839\n",
      "=====================================\n",
      "Rule: tomato sauce -> ground beef\n",
      "Support: 0.005332622317024397\n",
      "Confidence: 0.3773584905660377\n",
      "Lift: 3.840659481324083\n",
      "=====================================\n",
      "Rule: olive oil, frozen vegetables -> milk\n",
      "Support: 0.004799360085321957\n",
      "Confidence: 0.4235294117647058\n",
      "Lift: 3.2684095860566447\n",
      "=====================================\n"
     ]
    }
   ],
   "source": [
    "# Print the generated rules\n",
    "for rule in rules:\n",
    "    antecedent = ', '.join(rule[0])\n",
    "    consequent = ', '.join(rule[1])\n",
    "    print(\"Rule: \" + antecedent + \" -> \" + consequent)\n",
    "    print(\"Support: \" + str(rule[2]))\n",
    "    print(\"Confidence: \" + str(rule[3]))\n",
    "    print(\"Lift: \" + str(rule[4]))\n",
    "    print(\"=====================================\")"
   ]
  },
  {
   "cell_type": "code",
   "execution_count": null,
   "id": "9b79a5c6-7336-4848-a9af-98c497fd7d95",
   "metadata": {},
   "outputs": [],
   "source": []
  }
 ],
 "metadata": {
  "kernelspec": {
   "display_name": "Python 3 (ipykernel)",
   "language": "python",
   "name": "python3"
  },
  "language_info": {
   "codemirror_mode": {
    "name": "ipython",
    "version": 3
   },
   "file_extension": ".py",
   "mimetype": "text/x-python",
   "name": "python",
   "nbconvert_exporter": "python",
   "pygments_lexer": "ipython3",
   "version": "3.11.5"
  }
 },
 "nbformat": 4,
 "nbformat_minor": 5
}
